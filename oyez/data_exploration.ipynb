{
 "cells": [
  {
   "cell_type": "code",
   "execution_count": 3,
   "metadata": {},
   "outputs": [],
   "source": [
    "import pandas as pd\n",
    "import matplotlib.pyplot as plt\n",
    "import numpy as np\n",
    "import json"
   ]
  },
  {
   "cell_type": "code",
   "execution_count": 4,
   "metadata": {},
   "outputs": [],
   "source": [
    "## Importing our DataFrames\n",
    "\n",
    "filepath = \"/Users/jnapolitano/Projects/supreme_court_transcripts/oyez/cases/1789_1850.2us419.json\"\n",
    "\n",
    "with open(filepath, 'r') as f:\n",
    "  data = json.load(f)"
   ]
  },
  {
   "cell_type": "code",
   "execution_count": 5,
   "metadata": {},
   "outputs": [
    {
     "data": {
      "text/plain": [
       "dict_keys(['decisions', 'href', 'second_party', 'first_party', 'advocates', 'description', 'first_party_label', 'related_cases', 'conclusion', 'facts_of_the_case', 'timeline', 'opinion_announcement', 'second_party_label', 'heard_by', 'manner_of_jurisdiction', 'view_count', 'lower_court', 'justia_url', 'docket_number', 'ID', 'written_opinion', 'question', 'citation', 'oral_argument_audio', 'decided_by', 'location', 'name', 'term', 'additional_docket_numbers'])"
      ]
     },
     "execution_count": 5,
     "metadata": {},
     "output_type": "execute_result"
    }
   ],
   "source": [
    "data.keys()"
   ]
  },
  {
   "cell_type": "code",
   "execution_count": 16,
   "metadata": {},
   "outputs": [
    {
     "data": {
      "text/plain": [
       "{'page': '419',\n",
       " 'volume': '2',\n",
       " 'year': '1793',\n",
       " 'href': 'https://api.oyez.org/case_citation/case_citation/27129'}"
      ]
     },
     "execution_count": 16,
     "metadata": {},
     "output_type": "execute_result"
    }
   ],
   "source": [
    "data['citation']"
   ]
  },
  {
   "cell_type": "code",
   "execution_count": 17,
   "metadata": {},
   "outputs": [
    {
     "data": {
      "text/plain": [
       "'usrep2419'"
      ]
     },
     "execution_count": 17,
     "metadata": {},
     "output_type": "execute_result"
    }
   ],
   "source": [
    "data['loc_id'] = 'usrep' +data['citation']['volume'] + data['citation']['page']\n",
    "data['loc_id']"
   ]
  },
  {
   "cell_type": "markdown",
   "metadata": {},
   "source": [
    "## Create the Issues Data for Integration"
   ]
  },
  {
   "cell_type": "code",
   "execution_count": 26,
   "metadata": {},
   "outputs": [],
   "source": [
    "filepath = \"/Users/jnapolitano/Projects/supreme_court_transcripts/oyez/test.json\"\n",
    "with open(filepath, 'r') as f:\n",
    "  loc_data = json.load(f)\n",
    "\n"
   ]
  },
  {
   "cell_type": "code",
   "execution_count": 36,
   "metadata": {},
   "outputs": [],
   "source": [
    "results = loc_data['results']"
   ]
  },
  {
   "cell_type": "code",
   "execution_count": 37,
   "metadata": {},
   "outputs": [],
   "source": [
    "loc_result = results[0]"
   ]
  },
  {
   "cell_type": "code",
   "execution_count": 60,
   "metadata": {},
   "outputs": [
    {
     "data": {
      "text/plain": [
       "'Call Number: KF101 Series: Administrative Law Series: Immigration Law Series: Volume 547'"
      ]
     },
     "execution_count": 60,
     "metadata": {},
     "output_type": "execute_result"
    }
   ],
   "source": [
    "loc_result['shelf_id']"
   ]
  },
  {
   "cell_type": "code",
   "execution_count": 77,
   "metadata": {},
   "outputs": [
    {
     "data": {
      "text/plain": [
       "0         329 US 1\n",
       "1        329 US 14\n",
       "2        329 US 29\n",
       "3        329 US 40\n",
       "4        329 US 64\n",
       "           ...    \n",
       "8680    578 US 330\n",
       "8717    579 US 582\n",
       "8728    577 US 464\n",
       "8750      577 US 7\n",
       "8751     577 US 73\n",
       "Name: usCite, Length: 8676, dtype: object"
      ]
     },
     "execution_count": 77,
     "metadata": {},
     "output_type": "execute_result"
    }
   ],
   "source": [
    "supreme_court_df.usCite"
   ]
  },
  {
   "cell_type": "code",
   "execution_count": 16,
   "metadata": {},
   "outputs": [
    {
     "data": {
      "text/plain": [
       "0        8.0\n",
       "1        8.0\n",
       "2        8.0\n",
       "3        8.0\n",
       "4        8.0\n",
       "        ... \n",
       "81425    4.0\n",
       "81426    4.0\n",
       "81427    4.0\n",
       "81428    4.0\n",
       "81429    4.0\n",
       "Name: issueArea, Length: 81430, dtype: float64"
      ]
     },
     "execution_count": 16,
     "metadata": {},
     "output_type": "execute_result"
    }
   ],
   "source": [
    "supreme_court_df.issueArea"
   ]
  },
  {
   "cell_type": "markdown",
   "metadata": {},
   "source": [
    "### Upon Review\n",
    "It is unnecessary to integrate this data. I have these and more. \n",
    "\n",
    "The hierarchal nature limits the validity of the reading.  "
   ]
  },
  {
   "cell_type": "markdown",
   "metadata": {},
   "source": [
    "## Preparing the Justice Data"
   ]
  },
  {
   "cell_type": "code",
   "execution_count": 21,
   "metadata": {},
   "outputs": [
    {
     "data": {
      "text/plain": [
       "array(['HHBurton', 'RHJackson', 'WODouglas', 'FFrankfurter', 'SFReed',\n",
       "       'HLBlack', 'WBRutledge', 'FMurphy', 'FMVinson', 'TCClark',\n",
       "       'SMinton', 'EWarren', 'JHarlan2', 'WJBrennan', 'CEWhittaker',\n",
       "       'PStewart', 'BRWhite', 'AJGoldberg', 'AFortas', 'TMarshall',\n",
       "       'WEBurger', 'HABlackmun', 'LFPowell', 'WHRehnquist', 'JPStevens',\n",
       "       'SDOConnor', 'AScalia', 'AMKennedy', 'DHSouter', 'CThomas',\n",
       "       'RBGinsburg', 'SGBreyer', 'JGRoberts', 'SAAlito', 'SSotomayor',\n",
       "       'EKagan', 'NMGorsuch', 'BMKavanaugh', 'ACBarrett'], dtype=object)"
      ]
     },
     "execution_count": 21,
     "metadata": {},
     "output_type": "execute_result"
    }
   ],
   "source": [
    "supreme_court_df.justiceName.unique()"
   ]
  },
  {
   "cell_type": "markdown",
   "metadata": {},
   "source": [
    "## The Supreme Court Justices Data"
   ]
  },
  {
   "cell_type": "code",
   "execution_count": 23,
   "metadata": {},
   "outputs": [],
   "source": [
    "## Importing our DataFrames\n",
    "\n",
    "filepath = \"/Users/jnapolitano/Projects/supreme_court_db_integration/data/justices.csv\"\n",
    "\n",
    "\n",
    "justice_df = pd.read_csv(filepath)\n"
   ]
  },
  {
   "cell_type": "code",
   "execution_count": 24,
   "metadata": {},
   "outputs": [
    {
     "data": {
      "text/html": [
       "<div>\n",
       "<style scoped>\n",
       "    .dataframe tbody tr th:only-of-type {\n",
       "        vertical-align: middle;\n",
       "    }\n",
       "\n",
       "    .dataframe tbody tr th {\n",
       "        vertical-align: top;\n",
       "    }\n",
       "\n",
       "    .dataframe thead th {\n",
       "        text-align: right;\n",
       "    }\n",
       "</style>\n",
       "<table border=\"1\" class=\"dataframe\">\n",
       "  <thead>\n",
       "    <tr style=\"text-align: right;\">\n",
       "      <th></th>\n",
       "      <th>Justice Name</th>\n",
       "      <th>Supreme Court Term Start</th>\n",
       "      <th>Supreme Court Term End</th>\n",
       "      <th>Appointing President</th>\n",
       "    </tr>\n",
       "  </thead>\n",
       "  <tbody>\n",
       "    <tr>\n",
       "      <th>0</th>\n",
       "      <td>Jackson, Ketanji Brown\\n(Associate Justice)</td>\n",
       "      <td>--</td>\n",
       "      <td>--</td>\n",
       "      <td>Biden, Joseph R.</td>\n",
       "    </tr>\n",
       "    <tr>\n",
       "      <th>1</th>\n",
       "      <td>Coney Barrett, Amy\\n(Associate Justice)</td>\n",
       "      <td>October 27, 2020</td>\n",
       "      <td>--</td>\n",
       "      <td>Trump, Donald J.</td>\n",
       "    </tr>\n",
       "    <tr>\n",
       "      <th>2</th>\n",
       "      <td>Kavanaugh, Brett M.\\n(Associate Justice)</td>\n",
       "      <td>October 6, 2017</td>\n",
       "      <td>--</td>\n",
       "      <td>Trump, Donald J.</td>\n",
       "    </tr>\n",
       "    <tr>\n",
       "      <th>3</th>\n",
       "      <td>Gorsuch, Neil M.\\n(Associate Justice)</td>\n",
       "      <td>April 10, 2017</td>\n",
       "      <td>--</td>\n",
       "      <td>Trump, Donald J.</td>\n",
       "    </tr>\n",
       "    <tr>\n",
       "      <th>4</th>\n",
       "      <td>Kagan, Elena\\n(Associate Justice)</td>\n",
       "      <td>August 7, 2010</td>\n",
       "      <td>--</td>\n",
       "      <td>Obama, Barack H.</td>\n",
       "    </tr>\n",
       "    <tr>\n",
       "      <th>...</th>\n",
       "      <td>...</td>\n",
       "      <td>...</td>\n",
       "      <td>...</td>\n",
       "      <td>...</td>\n",
       "    </tr>\n",
       "    <tr>\n",
       "      <th>116</th>\n",
       "      <td>Rutledge, John\\n(Associate Justice)</td>\n",
       "      <td>February 15, 1790</td>\n",
       "      <td>March 5, 1791</td>\n",
       "      <td>Washington, George</td>\n",
       "    </tr>\n",
       "    <tr>\n",
       "      <th>117</th>\n",
       "      <td>Cushing, William\\n(Associate Justice)</td>\n",
       "      <td>February 2, 1790</td>\n",
       "      <td>September 13, 1810</td>\n",
       "      <td>Washington, George</td>\n",
       "    </tr>\n",
       "    <tr>\n",
       "      <th>118</th>\n",
       "      <td>Blair, John\\n(Associate Justice)</td>\n",
       "      <td>February 2, 1790</td>\n",
       "      <td>October 25, 1795</td>\n",
       "      <td>Washington, George</td>\n",
       "    </tr>\n",
       "    <tr>\n",
       "      <th>119</th>\n",
       "      <td>Jay, John\\n(Chief Justice)</td>\n",
       "      <td>October 19, 1789</td>\n",
       "      <td>June 29, 1795</td>\n",
       "      <td>Washington, George</td>\n",
       "    </tr>\n",
       "    <tr>\n",
       "      <th>120</th>\n",
       "      <td>Wilson, James\\n(Associate Justice)</td>\n",
       "      <td>October 5, 1789</td>\n",
       "      <td>August 21, 1798</td>\n",
       "      <td>Washington, George</td>\n",
       "    </tr>\n",
       "  </tbody>\n",
       "</table>\n",
       "<p>121 rows × 4 columns</p>\n",
       "</div>"
      ],
      "text/plain": [
       "                                    Justice Name Supreme Court Term Start  \\\n",
       "0    Jackson, Ketanji Brown\\n(Associate Justice)                       --   \n",
       "1        Coney Barrett, Amy\\n(Associate Justice)         October 27, 2020   \n",
       "2       Kavanaugh, Brett M.\\n(Associate Justice)          October 6, 2017   \n",
       "3          Gorsuch, Neil M.\\n(Associate Justice)           April 10, 2017   \n",
       "4              Kagan, Elena\\n(Associate Justice)           August 7, 2010   \n",
       "..                                           ...                      ...   \n",
       "116          Rutledge, John\\n(Associate Justice)        February 15, 1790   \n",
       "117        Cushing, William\\n(Associate Justice)         February 2, 1790   \n",
       "118             Blair, John\\n(Associate Justice)         February 2, 1790   \n",
       "119                   Jay, John\\n(Chief Justice)         October 19, 1789   \n",
       "120           Wilson, James\\n(Associate Justice)          October 5, 1789   \n",
       "\n",
       "    Supreme Court Term End Appointing President  \n",
       "0                       --     Biden, Joseph R.  \n",
       "1                       --     Trump, Donald J.  \n",
       "2                       --     Trump, Donald J.  \n",
       "3                       --     Trump, Donald J.  \n",
       "4                       --     Obama, Barack H.  \n",
       "..                     ...                  ...  \n",
       "116          March 5, 1791   Washington, George  \n",
       "117     September 13, 1810   Washington, George  \n",
       "118       October 25, 1795   Washington, George  \n",
       "119          June 29, 1795   Washington, George  \n",
       "120        August 21, 1798   Washington, George  \n",
       "\n",
       "[121 rows x 4 columns]"
      ]
     },
     "execution_count": 24,
     "metadata": {},
     "output_type": "execute_result"
    }
   ],
   "source": [
    "justice_df"
   ]
  },
  {
   "cell_type": "code",
   "execution_count": 46,
   "metadata": {},
   "outputs": [],
   "source": [
    "new_justice_df = pd.DataFrame()"
   ]
  },
  {
   "cell_type": "code",
   "execution_count": 47,
   "metadata": {},
   "outputs": [],
   "source": [
    "new_justice_df['justice_name'] = justice_df['Justice Name']\n",
    "new_justice_df['term_start'] = justice_df['Supreme Court Term Start']\n",
    "new_justice_df['term_end'] = justice_df['Supreme Court Term End']\n",
    "new_justice_df['appointee'] = justice_df['Appointing President']"
   ]
  },
  {
   "cell_type": "code",
   "execution_count": 48,
   "metadata": {},
   "outputs": [
    {
     "data": {
      "text/html": [
       "<div>\n",
       "<style scoped>\n",
       "    .dataframe tbody tr th:only-of-type {\n",
       "        vertical-align: middle;\n",
       "    }\n",
       "\n",
       "    .dataframe tbody tr th {\n",
       "        vertical-align: top;\n",
       "    }\n",
       "\n",
       "    .dataframe thead th {\n",
       "        text-align: right;\n",
       "    }\n",
       "</style>\n",
       "<table border=\"1\" class=\"dataframe\">\n",
       "  <thead>\n",
       "    <tr style=\"text-align: right;\">\n",
       "      <th></th>\n",
       "      <th>justice_name</th>\n",
       "      <th>term_start</th>\n",
       "      <th>term_end</th>\n",
       "      <th>appointee</th>\n",
       "    </tr>\n",
       "  </thead>\n",
       "  <tbody>\n",
       "    <tr>\n",
       "      <th>0</th>\n",
       "      <td>Jackson, Ketanji Brown\\n(Associate Justice)</td>\n",
       "      <td>NaN</td>\n",
       "      <td>NaN</td>\n",
       "      <td>Biden, Joseph R.</td>\n",
       "    </tr>\n",
       "    <tr>\n",
       "      <th>1</th>\n",
       "      <td>Coney Barrett, Amy\\n(Associate Justice)</td>\n",
       "      <td>October 27, 2020</td>\n",
       "      <td>NaN</td>\n",
       "      <td>Trump, Donald J.</td>\n",
       "    </tr>\n",
       "    <tr>\n",
       "      <th>2</th>\n",
       "      <td>Kavanaugh, Brett M.\\n(Associate Justice)</td>\n",
       "      <td>October 6, 2017</td>\n",
       "      <td>NaN</td>\n",
       "      <td>Trump, Donald J.</td>\n",
       "    </tr>\n",
       "    <tr>\n",
       "      <th>3</th>\n",
       "      <td>Gorsuch, Neil M.\\n(Associate Justice)</td>\n",
       "      <td>April 10, 2017</td>\n",
       "      <td>NaN</td>\n",
       "      <td>Trump, Donald J.</td>\n",
       "    </tr>\n",
       "    <tr>\n",
       "      <th>4</th>\n",
       "      <td>Kagan, Elena\\n(Associate Justice)</td>\n",
       "      <td>August 7, 2010</td>\n",
       "      <td>NaN</td>\n",
       "      <td>Obama, Barack H.</td>\n",
       "    </tr>\n",
       "    <tr>\n",
       "      <th>...</th>\n",
       "      <td>...</td>\n",
       "      <td>...</td>\n",
       "      <td>...</td>\n",
       "      <td>...</td>\n",
       "    </tr>\n",
       "    <tr>\n",
       "      <th>116</th>\n",
       "      <td>Rutledge, John\\n(Associate Justice)</td>\n",
       "      <td>February 15, 1790</td>\n",
       "      <td>March 5, 1791</td>\n",
       "      <td>Washington, George</td>\n",
       "    </tr>\n",
       "    <tr>\n",
       "      <th>117</th>\n",
       "      <td>Cushing, William\\n(Associate Justice)</td>\n",
       "      <td>February 2, 1790</td>\n",
       "      <td>September 13, 1810</td>\n",
       "      <td>Washington, George</td>\n",
       "    </tr>\n",
       "    <tr>\n",
       "      <th>118</th>\n",
       "      <td>Blair, John\\n(Associate Justice)</td>\n",
       "      <td>February 2, 1790</td>\n",
       "      <td>October 25, 1795</td>\n",
       "      <td>Washington, George</td>\n",
       "    </tr>\n",
       "    <tr>\n",
       "      <th>119</th>\n",
       "      <td>Jay, John\\n(Chief Justice)</td>\n",
       "      <td>October 19, 1789</td>\n",
       "      <td>June 29, 1795</td>\n",
       "      <td>Washington, George</td>\n",
       "    </tr>\n",
       "    <tr>\n",
       "      <th>120</th>\n",
       "      <td>Wilson, James\\n(Associate Justice)</td>\n",
       "      <td>October 5, 1789</td>\n",
       "      <td>August 21, 1798</td>\n",
       "      <td>Washington, George</td>\n",
       "    </tr>\n",
       "  </tbody>\n",
       "</table>\n",
       "<p>121 rows × 4 columns</p>\n",
       "</div>"
      ],
      "text/plain": [
       "                                    justice_name         term_start  \\\n",
       "0    Jackson, Ketanji Brown\\n(Associate Justice)                NaN   \n",
       "1        Coney Barrett, Amy\\n(Associate Justice)   October 27, 2020   \n",
       "2       Kavanaugh, Brett M.\\n(Associate Justice)    October 6, 2017   \n",
       "3          Gorsuch, Neil M.\\n(Associate Justice)     April 10, 2017   \n",
       "4              Kagan, Elena\\n(Associate Justice)     August 7, 2010   \n",
       "..                                           ...                ...   \n",
       "116          Rutledge, John\\n(Associate Justice)  February 15, 1790   \n",
       "117        Cushing, William\\n(Associate Justice)   February 2, 1790   \n",
       "118             Blair, John\\n(Associate Justice)   February 2, 1790   \n",
       "119                   Jay, John\\n(Chief Justice)   October 19, 1789   \n",
       "120           Wilson, James\\n(Associate Justice)    October 5, 1789   \n",
       "\n",
       "               term_end           appointee  \n",
       "0                   NaN    Biden, Joseph R.  \n",
       "1                   NaN    Trump, Donald J.  \n",
       "2                   NaN    Trump, Donald J.  \n",
       "3                   NaN    Trump, Donald J.  \n",
       "4                   NaN    Obama, Barack H.  \n",
       "..                  ...                 ...  \n",
       "116       March 5, 1791  Washington, George  \n",
       "117  September 13, 1810  Washington, George  \n",
       "118    October 25, 1795  Washington, George  \n",
       "119       June 29, 1795  Washington, George  \n",
       "120     August 21, 1798  Washington, George  \n",
       "\n",
       "[121 rows x 4 columns]"
      ]
     },
     "execution_count": 48,
     "metadata": {},
     "output_type": "execute_result"
    }
   ],
   "source": [
    "### remove -- \n",
    "\n",
    "new_justice_df.term_start = new_justice_df.term_start.mask(new_justice_df.term_start == '--', np.nan)\n",
    "new_justice_df.term_end = new_justice_df.term_end.mask(new_justice_df.term_end == '--', np.nan)\n",
    "\n",
    "new_justice_df\n",
    "\n",
    "\n"
   ]
  },
  {
   "cell_type": "code",
   "execution_count": 49,
   "metadata": {},
   "outputs": [],
   "source": [
    "outfile = \"/Users/jnapolitano/Projects/supreme_court_db_integration/data/formatted_justices.csv\"\n",
    "new_justice_df.to_csv(outfile)"
   ]
  },
  {
   "cell_type": "markdown",
   "metadata": {},
   "source": [
    "## "
   ]
  },
  {
   "cell_type": "markdown",
   "metadata": {},
   "source": [
    "## Cases Table"
   ]
  },
  {
   "cell_type": "code",
   "execution_count": 30,
   "metadata": {},
   "outputs": [],
   "source": [
    "filepath = \"/Users/jnapolitano/Projects/supreme_court_db_integration/data/Table of Cases  Resources  Constitution Annotated  Congress.gov  Library of Congress.csv\"\n",
    "\n",
    "## Importing our DataFrames\n",
    "\n",
    "cases_df = pd.read_csv(filepath)"
   ]
  },
  {
   "cell_type": "code",
   "execution_count": 31,
   "metadata": {},
   "outputs": [
    {
     "data": {
      "text/html": [
       "<div>\n",
       "<style scoped>\n",
       "    .dataframe tbody tr th:only-of-type {\n",
       "        vertical-align: middle;\n",
       "    }\n",
       "\n",
       "    .dataframe tbody tr th {\n",
       "        vertical-align: top;\n",
       "    }\n",
       "\n",
       "    .dataframe thead th {\n",
       "        text-align: right;\n",
       "    }\n",
       "</style>\n",
       "<table border=\"1\" class=\"dataframe\">\n",
       "  <thead>\n",
       "    <tr style=\"text-align: right;\">\n",
       "      <th></th>\n",
       "      <th>Case</th>\n",
       "      <th>Constitution Annotated</th>\n",
       "    </tr>\n",
       "  </thead>\n",
       "  <tbody>\n",
       "    <tr>\n",
       "      <th>0</th>\n",
       "      <td>103 F. Supp. 569 (D.D.C. 1952)</td>\n",
       "      <td>ArtII.S2.C3.2.1</td>\n",
       "    </tr>\n",
       "    <tr>\n",
       "      <th>1</th>\n",
       "      <td>117 U.S. 697</td>\n",
       "      <td>ArtIII.S1.1.3.1.1</td>\n",
       "    </tr>\n",
       "    <tr>\n",
       "      <th>2</th>\n",
       "      <td>129 S. Ct. 1032 (2009)</td>\n",
       "      <td>Amdt1.2.3.4.2.2</td>\n",
       "    </tr>\n",
       "    <tr>\n",
       "      <th>3</th>\n",
       "      <td>129 S. Ct. 2176 (2009)</td>\n",
       "      <td>Amdt1.2.9.1</td>\n",
       "    </tr>\n",
       "    <tr>\n",
       "      <th>4</th>\n",
       "      <td>135 S. Ct. 2443 (2015)</td>\n",
       "      <td>Amdt4.2.4.1.1</td>\n",
       "    </tr>\n",
       "    <tr>\n",
       "      <th>...</th>\n",
       "      <td>...</td>\n",
       "      <td>...</td>\n",
       "    </tr>\n",
       "    <tr>\n",
       "      <th>7721</th>\n",
       "      <td>Zschernig v. Miller, 389 U.S. 429 (1968)</td>\n",
       "      <td>ArtII.S2.C3.2.2.1.1.2.2</td>\n",
       "    </tr>\n",
       "    <tr>\n",
       "      <th>7722</th>\n",
       "      <td>Zucht v. King, 260 U.S. 174 (1922)</td>\n",
       "      <td>Amdt5.4.5.2.4.1</td>\n",
       "    </tr>\n",
       "    <tr>\n",
       "      <th>7723</th>\n",
       "      <td>Zurcher v. Stanford Daily, 436 U.S. 547 (1978)</td>\n",
       "      <td>Amdt1.3.1, Amdt4.2.4.1.1, Amdt4.3.1.3.1</td>\n",
       "    </tr>\n",
       "    <tr>\n",
       "      <th>7724</th>\n",
       "      <td>Zweibon v. Mitchell, 516 F.2d 594 (D.C. Cir. 1...</td>\n",
       "      <td>Amdt4.4.5.1.3</td>\n",
       "    </tr>\n",
       "    <tr>\n",
       "      <th>7725</th>\n",
       "      <td>Zwickler v. Koota, 389 U.S. 241 (1967)</td>\n",
       "      <td>ArtIII.S1.1.1.2.3.4.1, ArtIII.S2.C1.2.3, ArtII...</td>\n",
       "    </tr>\n",
       "  </tbody>\n",
       "</table>\n",
       "<p>7726 rows × 2 columns</p>\n",
       "</div>"
      ],
      "text/plain": [
       "                                                   Case  \\\n",
       "0                        103 F. Supp. 569 (D.D.C. 1952)   \n",
       "1                                          117 U.S. 697   \n",
       "2                                129 S. Ct. 1032 (2009)   \n",
       "3                                129 S. Ct. 2176 (2009)   \n",
       "4                                135 S. Ct. 2443 (2015)   \n",
       "...                                                 ...   \n",
       "7721           Zschernig v. Miller, 389 U.S. 429 (1968)   \n",
       "7722                 Zucht v. King, 260 U.S. 174 (1922)   \n",
       "7723     Zurcher v. Stanford Daily, 436 U.S. 547 (1978)   \n",
       "7724  Zweibon v. Mitchell, 516 F.2d 594 (D.C. Cir. 1...   \n",
       "7725             Zwickler v. Koota, 389 U.S. 241 (1967)   \n",
       "\n",
       "                                 Constitution Annotated  \n",
       "0                                       ArtII.S2.C3.2.1  \n",
       "1                                     ArtIII.S1.1.3.1.1  \n",
       "2                                       Amdt1.2.3.4.2.2  \n",
       "3                                           Amdt1.2.9.1  \n",
       "4                                         Amdt4.2.4.1.1  \n",
       "...                                                 ...  \n",
       "7721                            ArtII.S2.C3.2.2.1.1.2.2  \n",
       "7722                                    Amdt5.4.5.2.4.1  \n",
       "7723            Amdt1.3.1, Amdt4.2.4.1.1, Amdt4.3.1.3.1  \n",
       "7724                                      Amdt4.4.5.1.3  \n",
       "7725  ArtIII.S1.1.1.2.3.4.1, ArtIII.S2.C1.2.3, ArtII...  \n",
       "\n",
       "[7726 rows x 2 columns]"
      ]
     },
     "execution_count": 31,
     "metadata": {},
     "output_type": "execute_result"
    }
   ],
   "source": [
    "cases_df"
   ]
  },
  {
   "cell_type": "code",
   "execution_count": 51,
   "metadata": {},
   "outputs": [
    {
     "data": {
      "text/plain": [
       "array(['ArtII.S2.C3.2.1', 'ArtIII.S1.1.3.1.1', 'Amdt1.2.3.4.2.2', ...,\n",
       "       'ArtIII.S2.C1.2.5.3.1, Amdt1.1.2.1.1.1.1, Amdt1.1.2.1.1.2.1, Amdt1.1.2.1.1.2.2, Amdt1.1.2.1.1.2.10',\n",
       "       'Amdt1.3.1, Amdt4.2.4.1.1, Amdt4.3.1.3.1',\n",
       "       'ArtIII.S1.1.1.2.3.4.1, ArtIII.S2.C1.2.3, ArtIII.S2.C2.1.1.1.2, Amdt1.2.2.2, Amdt1.2.12.2.1'],\n",
       "      dtype=object)"
      ]
     },
     "execution_count": 51,
     "metadata": {},
     "output_type": "execute_result"
    }
   ],
   "source": [
    "test = cases_df['Constitution Annotated'].unique()\n",
    "test['']"
   ]
  },
  {
   "cell_type": "code",
   "execution_count": null,
   "metadata": {},
   "outputs": [],
   "source": []
  },
  {
   "cell_type": "code",
   "execution_count": 32,
   "metadata": {},
   "outputs": [],
   "source": [
    "filepath = \"/Users/jnapolitano/Projects/supreme_court_db_integration/data/Table of Laws Held Unconstitutional in Whole or in Part by the Supreme Court  Resources  Constitution Annotated  Congress.gov  Library of Congress.csv\"\n",
    "\n",
    "test = pd.read_csv(filepath)"
   ]
  },
  {
   "cell_type": "code",
   "execution_count": 33,
   "metadata": {},
   "outputs": [
    {
     "data": {
      "text/html": [
       "<div>\n",
       "<style scoped>\n",
       "    .dataframe tbody tr th:only-of-type {\n",
       "        vertical-align: middle;\n",
       "    }\n",
       "\n",
       "    .dataframe tbody tr th {\n",
       "        vertical-align: top;\n",
       "    }\n",
       "\n",
       "    .dataframe thead th {\n",
       "        text-align: right;\n",
       "    }\n",
       "</style>\n",
       "<table border=\"1\" class=\"dataframe\">\n",
       "  <thead>\n",
       "    <tr style=\"text-align: right;\">\n",
       "      <th></th>\n",
       "      <th></th>\n",
       "      <th>Supreme Court October Term</th>\n",
       "      <th>Case</th>\n",
       "      <th>Author(s) of Main Opinion</th>\n",
       "      <th>Subject Matter(s)</th>\n",
       "      <th>Federal or State Provision(s)?</th>\n",
       "      <th>Description of Unconstitutional Provision(s)</th>\n",
       "      <th>Constitutional Provision(s) Invoked</th>\n",
       "      <th>Constitutional Clause(s) Invoked</th>\n",
       "    </tr>\n",
       "  </thead>\n",
       "  <tbody>\n",
       "    <tr>\n",
       "      <th>0</th>\n",
       "      <td>1</td>\n",
       "      <td>2019</td>\n",
       "      <td>Allen v. Cooper,No. 18-877 (U.S. Mar. 23, 2020)</td>\n",
       "      <td>Kagan, Elena</td>\n",
       "      <td>Intellectual Property</td>\n",
       "      <td>Federal</td>\n",
       "      <td>17 U.S.C. § 511(a): A provision of the Copyrig...</td>\n",
       "      <td>Article I, Section 8, Clause 8;Fourteenth Amen...</td>\n",
       "      <td>--</td>\n",
       "    </tr>\n",
       "    <tr>\n",
       "      <th>1</th>\n",
       "      <td>2</td>\n",
       "      <td>2019</td>\n",
       "      <td>Barr v. American Ass'n of Political Consultant...</td>\n",
       "      <td>Kavanaugh, Brett M.</td>\n",
       "      <td>Business &amp; Corporate Law</td>\n",
       "      <td>Federal</td>\n",
       "      <td>47 U.S.C. 227(b)(1)(A)(iii): The government de...</td>\n",
       "      <td>First Amendment</td>\n",
       "      <td>Free Speech Clause</td>\n",
       "    </tr>\n",
       "    <tr>\n",
       "      <th>2</th>\n",
       "      <td>3</td>\n",
       "      <td>2019</td>\n",
       "      <td>June Medical Services LLC v. Russo,No. 18-1323...</td>\n",
       "      <td>Breyer, Stephen G.</td>\n",
       "      <td>Healthcare</td>\n",
       "      <td>State &amp; Local</td>\n",
       "      <td>La. Rev. Stat. Ann. §40:1061.10(A)(2)(a): A Lo...</td>\n",
       "      <td>Fourteenth Amendment</td>\n",
       "      <td>--</td>\n",
       "    </tr>\n",
       "    <tr>\n",
       "      <th>3</th>\n",
       "      <td>4</td>\n",
       "      <td>2019</td>\n",
       "      <td>Ramos v. Louisiana,No. 18-5924 (U.S. Apr. 20, ...</td>\n",
       "      <td>Gorsuch, Neil M.</td>\n",
       "      <td>Criminal Law &amp; Procedure</td>\n",
       "      <td>State &amp; Local</td>\n",
       "      <td>La. Const. art. I, § 17(A): A provision of the...</td>\n",
       "      <td>Sixth Amendment</td>\n",
       "      <td>Right to Trial by Jury</td>\n",
       "    </tr>\n",
       "    <tr>\n",
       "      <th>4</th>\n",
       "      <td>5</td>\n",
       "      <td>2019</td>\n",
       "      <td>Seila Law LLC v. Consumer Financial Protection...</td>\n",
       "      <td>Roberts, John G.</td>\n",
       "      <td>Banking</td>\n",
       "      <td>Federal</td>\n",
       "      <td>12 U.S.C. § 5491(c)(3): A provision of the Dod...</td>\n",
       "      <td>Article II, Section 1, Clause 1</td>\n",
       "      <td>Separation of Powers Doctrine</td>\n",
       "    </tr>\n",
       "    <tr>\n",
       "      <th>...</th>\n",
       "      <td>...</td>\n",
       "      <td>...</td>\n",
       "      <td>...</td>\n",
       "      <td>...</td>\n",
       "      <td>...</td>\n",
       "      <td>...</td>\n",
       "      <td>...</td>\n",
       "      <td>...</td>\n",
       "      <td>...</td>\n",
       "    </tr>\n",
       "    <tr>\n",
       "      <th>515</th>\n",
       "      <td>516</td>\n",
       "      <td>1943</td>\n",
       "      <td>Pollock v. Williams,322 U.S. 4 (1944)</td>\n",
       "      <td>Jackson, Robert H.</td>\n",
       "      <td>Civil Rights;Criminal Law &amp; Procedure</td>\n",
       "      <td>State &amp; Local</td>\n",
       "      <td>Florida Statute of 1941, §§ 817.09 and 817.10:...</td>\n",
       "      <td>Thirteenth Amendment</td>\n",
       "      <td>--</td>\n",
       "    </tr>\n",
       "    <tr>\n",
       "      <th>516</th>\n",
       "      <td>517</td>\n",
       "      <td>1942</td>\n",
       "      <td>Martin v. Struthers,319 U.S. 141 (1943)</td>\n",
       "      <td>Black, Hugo L.</td>\n",
       "      <td>Advertising, Publishing, &amp; Communications</td>\n",
       "      <td>State &amp; Local</td>\n",
       "      <td>A city ordinance of Struthers, Ohio, making it...</td>\n",
       "      <td>First Amendment</td>\n",
       "      <td>Free Press Clause;Free Speech Clause</td>\n",
       "    </tr>\n",
       "    <tr>\n",
       "      <th>517</th>\n",
       "      <td>518</td>\n",
       "      <td>1942</td>\n",
       "      <td>Murdock v. Pennsylvania,319 U.S. 105 (1943)</td>\n",
       "      <td>Douglas, William O.</td>\n",
       "      <td>Advertising, Publishing, &amp; Communications</td>\n",
       "      <td>State &amp; Local</td>\n",
       "      <td>A city ordinance of Jeannette, Pennsylvania, r...</td>\n",
       "      <td>First Amendment</td>\n",
       "      <td>Free Exercise Clause;Free Press Clause;Free Sp...</td>\n",
       "    </tr>\n",
       "    <tr>\n",
       "      <th>518</th>\n",
       "      <td>519</td>\n",
       "      <td>1942</td>\n",
       "      <td>Tot v. United States,319 U.S. 463 (1943)</td>\n",
       "      <td>Roberts, Owen J.</td>\n",
       "      <td>Criminal Law &amp; Procedure</td>\n",
       "      <td>Federal</td>\n",
       "      <td>Section 2(f) of the Federal Firearms Act, ch. ...</td>\n",
       "      <td>Fifth Amendment</td>\n",
       "      <td>Due Process Clause</td>\n",
       "    </tr>\n",
       "    <tr>\n",
       "      <th>519</th>\n",
       "      <td>520</td>\n",
       "      <td>1942</td>\n",
       "      <td>West Virginia State Board of Education v. Barn...</td>\n",
       "      <td>Jackson, Robert H.</td>\n",
       "      <td>Education</td>\n",
       "      <td>State &amp; Local</td>\n",
       "      <td>A January 9, 1942, resolution of the West Virg...</td>\n",
       "      <td>First Amendment</td>\n",
       "      <td>Free Speech Clause;Free Exercise Clause</td>\n",
       "    </tr>\n",
       "  </tbody>\n",
       "</table>\n",
       "<p>520 rows × 9 columns</p>\n",
       "</div>"
      ],
      "text/plain": [
       "          Supreme Court October Term  \\\n",
       "0      1                        2019   \n",
       "1      2                        2019   \n",
       "2      3                        2019   \n",
       "3      4                        2019   \n",
       "4      5                        2019   \n",
       "..   ...                         ...   \n",
       "515  516                        1943   \n",
       "516  517                        1942   \n",
       "517  518                        1942   \n",
       "518  519                        1942   \n",
       "519  520                        1942   \n",
       "\n",
       "                                                  Case  \\\n",
       "0      Allen v. Cooper,No. 18-877 (U.S. Mar. 23, 2020)   \n",
       "1    Barr v. American Ass'n of Political Consultant...   \n",
       "2    June Medical Services LLC v. Russo,No. 18-1323...   \n",
       "3    Ramos v. Louisiana,No. 18-5924 (U.S. Apr. 20, ...   \n",
       "4    Seila Law LLC v. Consumer Financial Protection...   \n",
       "..                                                 ...   \n",
       "515              Pollock v. Williams,322 U.S. 4 (1944)   \n",
       "516            Martin v. Struthers,319 U.S. 141 (1943)   \n",
       "517        Murdock v. Pennsylvania,319 U.S. 105 (1943)   \n",
       "518           Tot v. United States,319 U.S. 463 (1943)   \n",
       "519  West Virginia State Board of Education v. Barn...   \n",
       "\n",
       "    Author(s) of Main Opinion                          Subject Matter(s)  \\\n",
       "0                Kagan, Elena                      Intellectual Property   \n",
       "1         Kavanaugh, Brett M.                   Business & Corporate Law   \n",
       "2          Breyer, Stephen G.                                 Healthcare   \n",
       "3            Gorsuch, Neil M.                   Criminal Law & Procedure   \n",
       "4            Roberts, John G.                                    Banking   \n",
       "..                        ...                                        ...   \n",
       "515        Jackson, Robert H.      Civil Rights;Criminal Law & Procedure   \n",
       "516            Black, Hugo L.  Advertising, Publishing, & Communications   \n",
       "517       Douglas, William O.  Advertising, Publishing, & Communications   \n",
       "518          Roberts, Owen J.                   Criminal Law & Procedure   \n",
       "519        Jackson, Robert H.                                  Education   \n",
       "\n",
       "    Federal or State Provision(s)?  \\\n",
       "0                          Federal   \n",
       "1                          Federal   \n",
       "2                    State & Local   \n",
       "3                    State & Local   \n",
       "4                          Federal   \n",
       "..                             ...   \n",
       "515                  State & Local   \n",
       "516                  State & Local   \n",
       "517                  State & Local   \n",
       "518                        Federal   \n",
       "519                  State & Local   \n",
       "\n",
       "          Description of Unconstitutional Provision(s)  \\\n",
       "0    17 U.S.C. § 511(a): A provision of the Copyrig...   \n",
       "1    47 U.S.C. 227(b)(1)(A)(iii): The government de...   \n",
       "2    La. Rev. Stat. Ann. §40:1061.10(A)(2)(a): A Lo...   \n",
       "3    La. Const. art. I, § 17(A): A provision of the...   \n",
       "4    12 U.S.C. § 5491(c)(3): A provision of the Dod...   \n",
       "..                                                 ...   \n",
       "515  Florida Statute of 1941, §§ 817.09 and 817.10:...   \n",
       "516  A city ordinance of Struthers, Ohio, making it...   \n",
       "517  A city ordinance of Jeannette, Pennsylvania, r...   \n",
       "518  Section 2(f) of the Federal Firearms Act, ch. ...   \n",
       "519  A January 9, 1942, resolution of the West Virg...   \n",
       "\n",
       "                   Constitutional Provision(s) Invoked  \\\n",
       "0    Article I, Section 8, Clause 8;Fourteenth Amen...   \n",
       "1                                      First Amendment   \n",
       "2                                 Fourteenth Amendment   \n",
       "3                                      Sixth Amendment   \n",
       "4                      Article II, Section 1, Clause 1   \n",
       "..                                                 ...   \n",
       "515                               Thirteenth Amendment   \n",
       "516                                    First Amendment   \n",
       "517                                    First Amendment   \n",
       "518                                    Fifth Amendment   \n",
       "519                                    First Amendment   \n",
       "\n",
       "                      Constitutional Clause(s) Invoked  \n",
       "0                                                   --  \n",
       "1                                   Free Speech Clause  \n",
       "2                                                   --  \n",
       "3                               Right to Trial by Jury  \n",
       "4                        Separation of Powers Doctrine  \n",
       "..                                                 ...  \n",
       "515                                                 --  \n",
       "516               Free Press Clause;Free Speech Clause  \n",
       "517  Free Exercise Clause;Free Press Clause;Free Sp...  \n",
       "518                                 Due Process Clause  \n",
       "519            Free Speech Clause;Free Exercise Clause  \n",
       "\n",
       "[520 rows x 9 columns]"
      ]
     },
     "execution_count": 33,
     "metadata": {},
     "output_type": "execute_result"
    }
   ],
   "source": [
    "test"
   ]
  },
  {
   "cell_type": "code",
   "execution_count": null,
   "metadata": {},
   "outputs": [],
   "source": []
  }
 ],
 "metadata": {
  "kernelspec": {
   "display_name": "venv",
   "language": "python",
   "name": "venv"
  },
  "language_info": {
   "codemirror_mode": {
    "name": "ipython",
    "version": 3
   },
   "file_extension": ".py",
   "mimetype": "text/x-python",
   "name": "python",
   "nbconvert_exporter": "python",
   "pygments_lexer": "ipython3",
   "version": "3.9.12"
  },
  "orig_nbformat": 4
 },
 "nbformat": 4,
 "nbformat_minor": 2
}
